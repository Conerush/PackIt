{
 "cells": [
  {
   "cell_type": "markdown",
   "metadata": {},
   "source": [
    "# Part 0"
   ]
  },
  {
   "cell_type": "code",
   "execution_count": 2,
   "metadata": {},
   "outputs": [],
   "source": [
    "# !pip install -r requirements.txt"
   ]
  },
  {
   "cell_type": "code",
   "execution_count": 13,
   "metadata": {},
   "outputs": [],
   "source": [
    "# Data handling \n",
    "import pandas as pd \n",
    "import json\n",
    "\n",
    "# Database stuff\n",
    "from langchain_community.vectorstores import Chroma\n",
    "from langchain_community.document_loaders import DataFrameLoader\n",
    "from langchain_openai import OpenAIEmbeddings\n",
    "\n",
    "# Model\n",
    "from sentence_transformers import SentenceTransformer"
   ]
  },
  {
   "cell_type": "markdown",
   "metadata": {},
   "source": [
    "# Part 1: Preprocessing"
   ]
  },
  {
   "cell_type": "code",
   "execution_count": 14,
   "metadata": {},
   "outputs": [],
   "source": [
    "# Load in data\n",
    "with open('package_info.json', 'r') as json_file:\n",
    "    data = json.load(json_file)\n",
    "\n",
    "df = pd.DataFrame(data)\n",
    "df = df[['name', 'key_features', 'description']]\n",
    "df['key_features'] = df['key_features'].apply(lambda x: ', '.join(map(str, x)))\n",
    "df['all_info'] = df.apply(lambda row: str(row.to_dict()), axis=1)"
   ]
  },
  {
   "cell_type": "markdown",
   "metadata": {},
   "source": [
    "# Part 2: Populate VectorDB"
   ]
  },
  {
   "cell_type": "code",
   "execution_count": 15,
   "metadata": {},
   "outputs": [],
   "source": [
    "# Model name\n",
    "model_name = \"sentence-transformers/all-MiniLM-L6-v2\"\n",
    "\n",
    "# Create model class\n",
    "class Model():\n",
    "    def __init__(self, model_name):\n",
    "        self.model = SentenceTransformer(model_name)\n",
    "    \n",
    "    def embed_documents(self, text):\n",
    "        embeddings = self.model.encode(text, convert_to_numpy=True).tolist()\n",
    "        return embeddings\n",
    "    \n",
    "    def embed_query(self, text):\n",
    "        text = text.lower().strip()\n",
    "        embeddings = self.model.encode(text, convert_to_numpy=True).tolist()\n",
    "        return embeddings"
   ]
  },
  {
   "cell_type": "code",
   "execution_count": 16,
   "metadata": {},
   "outputs": [
    {
     "name": "stdout",
     "output_type": "stream",
     "text": [
      "190\n"
     ]
    }
   ],
   "source": [
    "# Create the data loader\n",
    "loader = DataFrameLoader(df, page_content_column=\"all_info\")\n",
    "data = loader.load()\n",
    "db_size = len(data)\n",
    "print(db_size)"
   ]
  },
  {
   "cell_type": "code",
   "execution_count": 18,
   "metadata": {},
   "outputs": [],
   "source": [
    "model = Model(model_name)\n",
    "# Populate vector database #\n",
    "# vectorstore = vectorstore = Chroma.from_documents(documents=data, embedding=model, persist_directory=\"db\")\n",
    "# vectorstore.persist()\n",
    "\n",
    "# Import local save of vector database #\n",
    "# vectorstore = Chroma(persist_directory=\"database\", embedding_function=model)"
   ]
  },
  {
   "cell_type": "markdown",
   "metadata": {},
   "source": [
    "# Part 3: RAG"
   ]
  },
  {
   "cell_type": "code",
   "execution_count": 19,
   "metadata": {},
   "outputs": [],
   "source": [
    "# Load in search algs\n",
    "# sim_search = vectorstore.similarity_search_with_relevance_scores\n",
    "# mmr_search = vectorstore.max_marginal_relevance_search"
   ]
  },
  {
   "cell_type": "code",
   "execution_count": 20,
   "metadata": {},
   "outputs": [],
   "source": [
    "def produce_dict(doc):\n",
    "    return {'Name': doc.metadata['name'], 'Description': doc.metadata['description'], 'Key Features': doc.metadata['key_features']}\n",
    "\n",
    "\n",
    "def search(queries, n, sim_search, mmr_search):\n",
    "    if (n > db_size):\n",
    "        print(f\"Error: n is too large, there are only {db_size} documents in the database.\")\n",
    "        return None\n",
    "    \n",
    "    if not isinstance(queries, list):\n",
    "        print(\"Error: Input must be a list of strings.\")\n",
    "        return None\n",
    "    \n",
    "    fetch_k = max(int(db_size/10), n)\n",
    "    \n",
    "    sim_results = []\n",
    "    mmr_results = []\n",
    "    positions = {}\n",
    "    packages = {}\n",
    "    \n",
    "    \n",
    "    for query in queries:\n",
    "        sim_packages = sim_search(query=query, k=n)\n",
    "        mmr_packages = mmr_search(query=query, k=min(fetch_k, n), fetch_k=fetch_k, alpha=0.5)\n",
    "        \n",
    "        sim_names = [p[0].metadata['name'] for p in sim_packages]\n",
    "        mmr_names = [p.metadata['name'] for p in mmr_packages]\n",
    "        \n",
    "        num_sim = len(sim_names)\n",
    "        num_mmr = len(mmr_names)\n",
    "        \n",
    "        sim_results.append(sim_names)\n",
    "        mmr_results.append(mmr_names)\n",
    "        \n",
    "        for p in sim_packages:\n",
    "            name = p[0].metadata['name']\n",
    "            if name in positions:\n",
    "                continue\n",
    "            packages[name] = produce_dict(p[0])\n",
    "            positions[name] = 0\n",
    "        \n",
    "        for p in mmr_packages:\n",
    "            name = p.metadata['name']\n",
    "            if name in positions: \n",
    "                continue\n",
    "            packages[name] = produce_dict(p)\n",
    "            positions[name] = 0\n",
    "           \n",
    "     \n",
    "    all = [key for key in positions]\n",
    "    for iter in range(len(sim_results)):\n",
    "        names_left = all.copy()\n",
    "        for ind, name in enumerate(sim_results[iter]):\n",
    "            positions[name] += ind+1\n",
    "            names_left.remove(name)   \n",
    "        \n",
    "        for name in names_left:\n",
    "            positions[name] += num_sim+1\n",
    "        \n",
    "        names_left = all.copy()\n",
    "        for ind, name in enumerate(mmr_results[iter]):\n",
    "            positions[name] += ind+1\n",
    "            names_left.remove(name)   \n",
    "        \n",
    "        for name in names_left:\n",
    "            positions[name] += num_mmr+1        \n",
    "            \n",
    "    for key in positions:\n",
    "        packages[key]['Average Position'] = positions[key]/(2*len(queries))\n",
    "        \n",
    "    packages = dict(sorted(packages.items(), key=lambda item: item[1]['Average Position']))\n",
    "     \n",
    "    return [packages[key] for key in packages]\n"
   ]
  },
  {
   "cell_type": "code",
   "execution_count": 22,
   "metadata": {},
   "outputs": [],
   "source": [
    "def retrieve(queries, n):\n",
    "    # Import local save of vector database #\n",
    "    vectorstore = Chroma(persist_directory=\"db\", embedding_function=model)\n",
    "    \n",
    "    # Load in search algs\n",
    "    sim_search = vectorstore.similarity_search_with_relevance_scores\n",
    "    mmr_search = vectorstore.max_marginal_relevance_search\n",
    "    \n",
    "    # Retrieve\n",
    "    return search(queries, n, sim_search, mmr_search)"
   ]
  },
  {
   "cell_type": "code",
   "execution_count": null,
   "metadata": {},
   "outputs": [],
   "source": []
  }
 ],
 "metadata": {
  "kernelspec": {
   "display_name": "Python 3",
   "language": "python",
   "name": "python3"
  },
  "language_info": {
   "codemirror_mode": {
    "name": "ipython",
    "version": 3
   },
   "file_extension": ".py",
   "mimetype": "text/x-python",
   "name": "python",
   "nbconvert_exporter": "python",
   "pygments_lexer": "ipython3",
   "version": "3.11.5"
  }
 },
 "nbformat": 4,
 "nbformat_minor": 2
}
