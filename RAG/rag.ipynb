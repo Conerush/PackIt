{
 "cells": [
  {
   "cell_type": "markdown",
   "metadata": {},
   "source": [
    "# Part 0"
   ]
  },
  {
   "cell_type": "code",
   "execution_count": 97,
   "metadata": {},
   "outputs": [],
   "source": [
    "# !pip install -r requirements.txt"
   ]
  },
  {
   "cell_type": "code",
   "execution_count": 111,
   "metadata": {},
   "outputs": [],
   "source": [
    "# Data handling \n",
    "import pandas as pd \n",
    "import json\n",
    "\n",
    "# Database stuff\n",
    "from langchain_community.vectorstores import Chroma\n",
    "from langchain_community.document_loaders import DataFrameLoader\n",
    "from langchain_openai import OpenAIEmbeddings\n",
    "\n",
    "# Model\n",
    "from sentence_transformers import SentenceTransformer"
   ]
  },
  {
   "cell_type": "markdown",
   "metadata": {},
   "source": [
    "# Part 1: Preprocessing"
   ]
  },
  {
   "cell_type": "code",
   "execution_count": 112,
   "metadata": {},
   "outputs": [],
   "source": [
    "# Load in data\n",
    "with open('package_info.json', 'r') as json_file:\n",
    "    data = json.load(json_file)\n",
    "\n",
    "df = pd.DataFrame(data)\n",
    "df = df[['name', 'key_features', 'description']]\n",
    "df['key_features'] = df['key_features'].apply(lambda x: ', '.join(map(str, x)))\n",
    "df['all_info'] = df.apply(lambda row: str(row.to_dict()), axis=1)"
   ]
  },
  {
   "cell_type": "markdown",
   "metadata": {},
   "source": [
    "# Part 2: Populate VectorDB"
   ]
  },
  {
   "cell_type": "code",
   "execution_count": 188,
   "metadata": {},
   "outputs": [],
   "source": [
    "# Model name\n",
    "model_name = \"sentence-transformers/all-MiniLM-L6-v2\"\n",
    "\n",
    "# Create model class\n",
    "class Model():\n",
    "    def __init__(self, model_name):\n",
    "        self.model = SentenceTransformer(model_name)\n",
    "    \n",
    "    def embed_documents(self, text):\n",
    "        embeddings = self.model.encode(text, convert_to_numpy=True).tolist()\n",
    "        return embeddings\n",
    "    \n",
    "    def embed_query(self, text):\n",
    "        text = text.lower().strip()\n",
    "        embeddings = self.model.encode(text, convert_to_numpy=True).tolist()\n",
    "        return embeddings"
   ]
  },
  {
   "cell_type": "code",
   "execution_count": 189,
   "metadata": {},
   "outputs": [
    {
     "name": "stdout",
     "output_type": "stream",
     "text": [
      "90\n"
     ]
    }
   ],
   "source": [
    "# Create the data loader\n",
    "loader = DataFrameLoader(df, page_content_column=\"all_info\")\n",
    "data = loader.load()\n",
    "db_size = len(data)\n",
    "print(db_size)"
   ]
  },
  {
   "cell_type": "code",
   "execution_count": 190,
   "metadata": {},
   "outputs": [],
   "source": [
    "model = Model(model_name)\n",
    "# Populate vector database #\n",
    "# vectorstore = vectorstore = Chroma.from_documents(documents=data, embedding=model, persist_directory=\"database\")\n",
    "# vectorstore.persist()\n",
    "\n",
    "# Import local save of vector database #\n",
    "vectorstore = Chroma(persist_directory=\"database\", embedding_function=model)"
   ]
  },
  {
   "cell_type": "markdown",
   "metadata": {},
   "source": [
    "# Part 3: RAG"
   ]
  },
  {
   "cell_type": "code",
   "execution_count": 191,
   "metadata": {},
   "outputs": [],
   "source": [
    "# Load in search algs\n",
    "sim_search = vectorstore.similarity_search_with_relevance_scores\n",
    "mmr_search = vectorstore.max_marginal_relevance_search"
   ]
  },
  {
   "cell_type": "code",
   "execution_count": 272,
   "metadata": {},
   "outputs": [],
   "source": [
    "def produce_dict(doc):\n",
    "    return {'Name': doc.metadata['name'], 'Description': doc.metadata['description'], 'Key Features': doc.metadata['key_features']}\n",
    "\n",
    "\n",
    "def retrieve(queries, n):\n",
    "    if (n > db_size):\n",
    "        print(f\"Error: n is too large, there are only {db_size} documents in the database.\")\n",
    "        return None\n",
    "    \n",
    "    if not isinstance(queries, list):\n",
    "        print(\"Error: Input must be a list of strings.\")\n",
    "        return None\n",
    "    \n",
    "    fetch_k = max(int(db_size/10), n)\n",
    "    \n",
    "    sim_results = []\n",
    "    mmr_results = []\n",
    "    positions = {}\n",
    "    packages = {}\n",
    "    \n",
    "    \n",
    "    for query in queries:\n",
    "        sim_packages = sim_search(query=query, k=n)\n",
    "        mmr_packages = mmr_search(query=query, k=min(fetch_k, n), fetch_k=fetch_k, alpha=0.5)\n",
    "        \n",
    "        sim_names = [p[0].metadata['name'] for p in sim_packages]\n",
    "        mmr_names = [p.metadata['name'] for p in mmr_packages]\n",
    "        \n",
    "        num_sim = len(sim_names)\n",
    "        num_mmr = len(mmr_names)\n",
    "        \n",
    "        sim_results.append(sim_names)\n",
    "        mmr_results.append(mmr_names)\n",
    "        \n",
    "        for p in sim_packages:\n",
    "            name = p[0].metadata['name']\n",
    "            if name in positions:\n",
    "                continue\n",
    "            packages[name] = produce_dict(p[0])\n",
    "            positions[name] = 0\n",
    "        \n",
    "        for p in mmr_packages:\n",
    "            name = p.metadata['name']\n",
    "            if name in positions: \n",
    "                continue\n",
    "            packages[name] = produce_dict(p)\n",
    "            positions[name] = 0\n",
    "           \n",
    "     \n",
    "    all = [key for key in positions]\n",
    "    for iter in range(len(sim_results)):\n",
    "        names_left = all.copy()\n",
    "        for ind, name in enumerate(sim_results[iter]):\n",
    "            positions[name] += ind+1\n",
    "            names_left.remove(name)   \n",
    "        \n",
    "        for name in names_left:\n",
    "            positions[name] += num_sim+1\n",
    "        \n",
    "        names_left = all.copy()\n",
    "        for ind, name in enumerate(mmr_results[iter]):\n",
    "            positions[name] += ind+1\n",
    "            names_left.remove(name)   \n",
    "        \n",
    "        for name in names_left:\n",
    "            positions[name] += num_mmr+1        \n",
    "            \n",
    "    for key in positions:\n",
    "        packages[key]['Average Position'] = positions[key]/(2*len(queries))\n",
    "        \n",
    "    packages = dict(sorted(packages.items(), key=lambda item: item[1]['Average Position']))\n",
    "     \n",
    "    return [packages[key] for key in packages]\n"
   ]
  },
  {
   "cell_type": "code",
   "execution_count": 273,
   "metadata": {},
   "outputs": [
    {
     "data": {
      "text/plain": [
       "[{'Name': 'urllib3',\n",
       "  'Description': 'urllib3 is a Python library for making HTTP requests. It provides a powerful, user-friendly interface for handling HTTP connections, managing connection pooling, and handling retries and timeouts.',\n",
       "  'Key Features': 'HTTP client library for Python, Handles HTTP connections, retries, and timeouts, Supports connection pooling for improved performance, SSL/TLS support for secure connections, Customizable and extensible HTTP request handling',\n",
       "  'Average Position': 3.0},\n",
       " {'Name': 'aiohttp',\n",
       "  'Description': 'aiohttp is an asynchronous HTTP client/server framework for Python, providing web server and client functionalities built on top of the asyncio library.',\n",
       "  'Key Features': 'Asynchronous HTTP client and server, WebSockets support, Middleware and signal handling, Session handling and cookies, Supports both client and server WebSockets, Highly extensible and customizable',\n",
       "  'Average Position': 3.25},\n",
       " {'Name': 'markupsafe',\n",
       "  'Description': 'markupsafe is a Python library that provides implementations of various HTML, XML, and URL escaping/unescaping functions. It ensures safe string handling for markup languages, preventing XSS (Cross-Site Scripting) attacks and maintaining data integrity.',\n",
       "  'Key Features': 'HTML, XML, and URL escaping/unescaping functions, Safe string handling for markup languages, Prevents XSS (Cross-Site Scripting) attacks, Integration with web frameworks and templating engines, Efficient and secure string manipulation',\n",
       "  'Average Position': 3.5},\n",
       " {'Name': 'werkzeug',\n",
       "  'Description': 'werkzeug is a comprehensive WSGI (Web Server Gateway Interface) library for Python. It provides utilities and functions for building web applications, handling HTTP requests and responses, implementing routing, and more.',\n",
       "  'Key Features': 'WSGI utility library for Python web applications, HTTP request and response handling, URL routing and URL building utilities, Middleware components for request and response processing, Integration with various web frameworks and servers',\n",
       "  'Average Position': 4.0},\n",
       " {'Name': 'tqdm',\n",
       "  'Description': 'tqdm is a Python library that provides a fast, extensible progress bar for loops and iterables. It enhances the user experience by displaying progress indicators, estimated time remaining, and throughput information during iterative processes.',\n",
       "  'Key Features': 'Fast and extensible progress bar for Python, Supports loops, iterables, and multiprocessing, Customizable progress bar style and format, Estimates time remaining and displays throughput, Integration with Jupyter Notebook and IPython',\n",
       "  'Average Position': 4.5},\n",
       " {'Name': 'awscli',\n",
       "  'Description': 'awscli is a command-line interface for AWS (Amazon Web Services) that allows users to manage various AWS services and resources from the terminal. It provides commands for tasks like managing EC2 instances, S3 buckets, IAM users, and more.',\n",
       "  'Key Features': 'CLI for managing AWS services, Support for multiple AWS profiles, Tab completion support, Integration with scripting and automation, Customizable configuration and output formatting',\n",
       "  'Average Position': 5.25},\n",
       " {'Name': 'soupsieve',\n",
       "  'Description': 'soupsieve is a Python library that provides CSS-like selectors for parsing HTML and XML documents. It enhances the functionality of BeautifulSoup by allowing you to filter and search elements using CSS selectors.',\n",
       "  'Key Features': 'CSS-like selectors for HTML and XML parsing, Enhances BeautifulSoup with advanced querying capabilities, Supports attribute selection, class selectors, and pseudoselectors, Improves efficiency in parsing and searching document structures, Integration with BeautifulSoup for seamless usage',\n",
       "  'Average Position': 5.5},\n",
       " {'Name': 'outhlib',\n",
       "  'Description': 'outhlib is a Python library that provides OAuth 1.0 and OAuth 2.0 client support for accessing APIs that require OAuth authentication. It simplifies the process of OAuth token management, authentication, and authorization in Python applications.',\n",
       "  'Key Features': 'OAuth 1.0 and OAuth 2.0 client support, Token management and authentication flows, Integration with OAuth providers (Google, Facebook, Twitter, etc.), Pythonic API for OAuth workflows, Supports both synchronous and asynchronous HTTP requests',\n",
       "  'Average Position': 5.5},\n",
       " {'Name': 'pluggy',\n",
       "  'Description': 'pluggy is a Python library that provides a minimalist implementation of the pytest plugin system. It allows developers to create and use plugins to extend the functionality of applications or frameworks in a modular and flexible way.',\n",
       "  'Key Features': 'Minimalist plugin system, Designed for flexibility and extensibility, Integration with pytest for testing frameworks, Supports custom hooks and callbacks, Pythonic API for plugin management',\n",
       "  'Average Position': 5.5},\n",
       " {'Name': 'requests',\n",
       "  'Description': 'requests is a simple yet powerful Python library for making HTTP requests. It abstracts the complexities of HTTP into a simple API, allowing you to send HTTP requests, handle responses, and manage sessions easily.',\n",
       "  'Key Features': 'Simplified HTTP requests and responses handling, Supports HTTP methods (GET, POST, PUT, DELETE, etc.), Session management and cookies handling, Custom headers and authentication support, Integration with web APIs and services',\n",
       "  'Average Position': 5.75},\n",
       " {'Name': 'websocket-client',\n",
       "  'Description': 'websocket-client is a Python library for building WebSocket clients. It provides an easy-to-use interface for connecting to WebSocket servers, sending and receiving messages, and handling WebSocket protocol details.',\n",
       "  'Key Features': 'WebSocket client implementation in Python, Supports WebSocket protocol (RFC 6455), Handles WebSocket handshake and message framing, Asynchronous and synchronous operation modes, Cross-platform compatibility',\n",
       "  'Average Position': 5.75},\n",
       " {'Name': 'google-cloud-storage',\n",
       "  'Description': 'google-cloud-storage is a Python client library for interacting with Google Cloud Storage. It provides APIs for uploading, downloading, and managing objects and buckets in Google Cloud Storage.',\n",
       "  'Key Features': 'Client library for Google Cloud Storage, Upload, download, and manage objects and buckets, Supports streaming uploads and downloads, Integration with Google Cloud client libraries, ACL management and metadata operations',\n",
       "  'Average Position': 5.75},\n",
       " {'Name': 'google-auth',\n",
       "  'Description': 'google-auth is a Python library that provides authentication credentials and mechanisms for accessing Google Cloud services and APIs securely. It supports OAuth2, service account credentials, and user authentication methods.',\n",
       "  'Key Features': 'Authentication mechanisms for Google Cloud services, Supports OAuth2, service accounts, and user authentication, Secure credential management, Integration with Google Cloud client libraries, Token management and validation',\n",
       "  'Average Position': 5.75}]"
      ]
     },
     "execution_count": 273,
     "metadata": {},
     "output_type": "execute_result"
    }
   ],
   "source": [
    "retrieve([\"i want to webscrape\", \"peepeepoopoo\"], 5)"
   ]
  },
  {
   "cell_type": "code",
   "execution_count": null,
   "metadata": {},
   "outputs": [],
   "source": []
  }
 ],
 "metadata": {
  "kernelspec": {
   "display_name": "Python 3",
   "language": "python",
   "name": "python3"
  },
  "language_info": {
   "codemirror_mode": {
    "name": "ipython",
    "version": 3
   },
   "file_extension": ".py",
   "mimetype": "text/x-python",
   "name": "python",
   "nbconvert_exporter": "python",
   "pygments_lexer": "ipython3",
   "version": "3.11.5"
  }
 },
 "nbformat": 4,
 "nbformat_minor": 2
}
